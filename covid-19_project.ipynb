{
 "cells": [
  {
   "cell_type": "markdown",
   "metadata": {
    "dc": {
     "key": "4"
    },
    "deletable": false,
    "editable": false,
    "run_control": {
     "frozen": true
    },
    "tags": [
     "context"
    ]
   },
   "source": [
    "## 1. From epidemic to pandemic\n",
    "<p><img style=\"float: left; margin:5px 20px 5px 1px; width:40%\" src=\"https://www.nps.gov/aboutus/news/images/CDC-coronavirus-image-23311-for-web.jpg?maxwidth=650&autorotate=false\"></p>\n",
    "<p>In December 2019, COVID-19 coronavirus was first identified in the Wuhan region of China. By March 11, 2020, the World Health Organization (WHO) categorized the COVID-19 outbreak as a pandemic. A lot has happened in the months in between with major outbreaks in Iran, South Korea, and Italy. </p>\n",
    "<p>We know that COVID-19 spreads through respiratory droplets, such as through coughing, sneezing, or speaking. But, how quickly did the virus spread across the globe? And, can we see any effect from country-wide policies, like shutdowns and quarantines? </p>\n",
    "<p>Fortunately, organizations around the world have been collecting data so that governments can monitor and learn from this pandemic. Notably, the Johns Hopkins University Center for Systems Science and Engineering created a <a href=\"https://github.com/RamiKrispin/coronavirus\">publicly available data repository</a> to consolidate this data from sources like the WHO, the Centers for Disease Control and Prevention (CDC), and the Ministry of Health from multiple countries.</p>\n",
    "<p>In this notebook, you will visualize COVID-19 data from the first several weeks of the outbreak to see at what point this virus became a global pandemic.</p>\n",
    "<p><em>Please note that information and data regarding COVID-19 is frequently being updated. The data used in this project was pulled on March 17, 2020, and should not be considered to be the most up to date data available.</em></p>"
   ]
  },
  {
   "cell_type": "code",
   "execution_count": 31,
   "metadata": {
    "dc": {
     "key": "4"
    },
    "tags": [
     "sample_code"
    ]
   },
   "outputs": [
    {
     "name": "stderr",
     "output_type": "stream",
     "text": [
      "Parsed with column specification:\n",
      "cols(\n",
      "  date = \u001b[34mcol_date(format = \"\")\u001b[39m,\n",
      "  cum_cases = \u001b[32mcol_double()\u001b[39m\n",
      ")\n"
     ]
    },
    {
     "data": {
      "text/html": [
       "<table>\n",
       "<caption>A spec_tbl_df: 56 x 2</caption>\n",
       "<thead>\n",
       "\t<tr><th scope=col>date</th><th scope=col>cum_cases</th></tr>\n",
       "\t<tr><th scope=col>&lt;date&gt;</th><th scope=col>&lt;dbl&gt;</th></tr>\n",
       "</thead>\n",
       "<tbody>\n",
       "\t<tr><td>2020-01-22</td><td>   555</td></tr>\n",
       "\t<tr><td>2020-01-23</td><td>   653</td></tr>\n",
       "\t<tr><td>2020-01-24</td><td>   941</td></tr>\n",
       "\t<tr><td>2020-01-25</td><td>  1434</td></tr>\n",
       "\t<tr><td>2020-01-26</td><td>  2118</td></tr>\n",
       "\t<tr><td>2020-01-27</td><td>  2927</td></tr>\n",
       "\t<tr><td>2020-01-28</td><td>  5578</td></tr>\n",
       "\t<tr><td>2020-01-29</td><td>  6166</td></tr>\n",
       "\t<tr><td>2020-01-30</td><td>  8234</td></tr>\n",
       "\t<tr><td>2020-01-31</td><td>  9927</td></tr>\n",
       "\t<tr><td>2020-02-01</td><td> 12038</td></tr>\n",
       "\t<tr><td>2020-02-02</td><td> 16787</td></tr>\n",
       "\t<tr><td>2020-02-03</td><td> 19881</td></tr>\n",
       "\t<tr><td>2020-02-04</td><td> 23892</td></tr>\n",
       "\t<tr><td>2020-02-05</td><td> 27635</td></tr>\n",
       "\t<tr><td>2020-02-06</td><td> 30817</td></tr>\n",
       "\t<tr><td>2020-02-07</td><td> 34391</td></tr>\n",
       "\t<tr><td>2020-02-08</td><td> 37120</td></tr>\n",
       "\t<tr><td>2020-02-09</td><td> 40150</td></tr>\n",
       "\t<tr><td>2020-02-10</td><td> 42762</td></tr>\n",
       "\t<tr><td>2020-02-11</td><td> 44802</td></tr>\n",
       "\t<tr><td>2020-02-12</td><td> 45221</td></tr>\n",
       "\t<tr><td>2020-02-13</td><td> 60368</td></tr>\n",
       "\t<tr><td>2020-02-14</td><td> 66885</td></tr>\n",
       "\t<tr><td>2020-02-15</td><td> 69030</td></tr>\n",
       "\t<tr><td>2020-02-16</td><td> 71224</td></tr>\n",
       "\t<tr><td>2020-02-17</td><td> 73258</td></tr>\n",
       "\t<tr><td>2020-02-18</td><td> 75136</td></tr>\n",
       "\t<tr><td>2020-02-19</td><td> 75639</td></tr>\n",
       "\t<tr><td>2020-02-20</td><td> 76197</td></tr>\n",
       "\t<tr><td>2020-02-21</td><td> 76823</td></tr>\n",
       "\t<tr><td>2020-02-22</td><td> 78579</td></tr>\n",
       "\t<tr><td>2020-02-23</td><td> 78965</td></tr>\n",
       "\t<tr><td>2020-02-24</td><td> 79568</td></tr>\n",
       "\t<tr><td>2020-02-25</td><td> 80413</td></tr>\n",
       "\t<tr><td>2020-02-26</td><td> 81395</td></tr>\n",
       "\t<tr><td>2020-02-27</td><td> 82754</td></tr>\n",
       "\t<tr><td>2020-02-28</td><td> 84120</td></tr>\n",
       "\t<tr><td>2020-02-29</td><td> 86011</td></tr>\n",
       "\t<tr><td>2020-03-01</td><td> 88369</td></tr>\n",
       "\t<tr><td>2020-03-02</td><td> 90306</td></tr>\n",
       "\t<tr><td>2020-03-03</td><td> 92840</td></tr>\n",
       "\t<tr><td>2020-03-04</td><td> 95120</td></tr>\n",
       "\t<tr><td>2020-03-05</td><td> 97882</td></tr>\n",
       "\t<tr><td>2020-03-06</td><td>101784</td></tr>\n",
       "\t<tr><td>2020-03-07</td><td>105821</td></tr>\n",
       "\t<tr><td>2020-03-08</td><td>109795</td></tr>\n",
       "\t<tr><td>2020-03-09</td><td>113561</td></tr>\n",
       "\t<tr><td>2020-03-10</td><td>118592</td></tr>\n",
       "\t<tr><td>2020-03-11</td><td>125865</td></tr>\n",
       "\t<tr><td>2020-03-12</td><td>128343</td></tr>\n",
       "\t<tr><td>2020-03-13</td><td>145193</td></tr>\n",
       "\t<tr><td>2020-03-14</td><td>156097</td></tr>\n",
       "\t<tr><td>2020-03-15</td><td>167449</td></tr>\n",
       "\t<tr><td>2020-03-16</td><td>181531</td></tr>\n",
       "\t<tr><td>2020-03-17</td><td>197146</td></tr>\n",
       "</tbody>\n",
       "</table>\n"
      ],
      "text/latex": [
       "A spec_tbl_df: 56 x 2\n",
       "\\begin{tabular}{r|ll}\n",
       " date & cum\\_cases\\\\\n",
       " <date> & <dbl>\\\\\n",
       "\\hline\n",
       "\t 2020-01-22 &    555\\\\\n",
       "\t 2020-01-23 &    653\\\\\n",
       "\t 2020-01-24 &    941\\\\\n",
       "\t 2020-01-25 &   1434\\\\\n",
       "\t 2020-01-26 &   2118\\\\\n",
       "\t 2020-01-27 &   2927\\\\\n",
       "\t 2020-01-28 &   5578\\\\\n",
       "\t 2020-01-29 &   6166\\\\\n",
       "\t 2020-01-30 &   8234\\\\\n",
       "\t 2020-01-31 &   9927\\\\\n",
       "\t 2020-02-01 &  12038\\\\\n",
       "\t 2020-02-02 &  16787\\\\\n",
       "\t 2020-02-03 &  19881\\\\\n",
       "\t 2020-02-04 &  23892\\\\\n",
       "\t 2020-02-05 &  27635\\\\\n",
       "\t 2020-02-06 &  30817\\\\\n",
       "\t 2020-02-07 &  34391\\\\\n",
       "\t 2020-02-08 &  37120\\\\\n",
       "\t 2020-02-09 &  40150\\\\\n",
       "\t 2020-02-10 &  42762\\\\\n",
       "\t 2020-02-11 &  44802\\\\\n",
       "\t 2020-02-12 &  45221\\\\\n",
       "\t 2020-02-13 &  60368\\\\\n",
       "\t 2020-02-14 &  66885\\\\\n",
       "\t 2020-02-15 &  69030\\\\\n",
       "\t 2020-02-16 &  71224\\\\\n",
       "\t 2020-02-17 &  73258\\\\\n",
       "\t 2020-02-18 &  75136\\\\\n",
       "\t 2020-02-19 &  75639\\\\\n",
       "\t 2020-02-20 &  76197\\\\\n",
       "\t 2020-02-21 &  76823\\\\\n",
       "\t 2020-02-22 &  78579\\\\\n",
       "\t 2020-02-23 &  78965\\\\\n",
       "\t 2020-02-24 &  79568\\\\\n",
       "\t 2020-02-25 &  80413\\\\\n",
       "\t 2020-02-26 &  81395\\\\\n",
       "\t 2020-02-27 &  82754\\\\\n",
       "\t 2020-02-28 &  84120\\\\\n",
       "\t 2020-02-29 &  86011\\\\\n",
       "\t 2020-03-01 &  88369\\\\\n",
       "\t 2020-03-02 &  90306\\\\\n",
       "\t 2020-03-03 &  92840\\\\\n",
       "\t 2020-03-04 &  95120\\\\\n",
       "\t 2020-03-05 &  97882\\\\\n",
       "\t 2020-03-06 & 101784\\\\\n",
       "\t 2020-03-07 & 105821\\\\\n",
       "\t 2020-03-08 & 109795\\\\\n",
       "\t 2020-03-09 & 113561\\\\\n",
       "\t 2020-03-10 & 118592\\\\\n",
       "\t 2020-03-11 & 125865\\\\\n",
       "\t 2020-03-12 & 128343\\\\\n",
       "\t 2020-03-13 & 145193\\\\\n",
       "\t 2020-03-14 & 156097\\\\\n",
       "\t 2020-03-15 & 167449\\\\\n",
       "\t 2020-03-16 & 181531\\\\\n",
       "\t 2020-03-17 & 197146\\\\\n",
       "\\end{tabular}\n"
      ],
      "text/markdown": [
       "\n",
       "A spec_tbl_df: 56 x 2\n",
       "\n",
       "| date &lt;date&gt; | cum_cases &lt;dbl&gt; |\n",
       "|---|---|\n",
       "| 2020-01-22 |    555 |\n",
       "| 2020-01-23 |    653 |\n",
       "| 2020-01-24 |    941 |\n",
       "| 2020-01-25 |   1434 |\n",
       "| 2020-01-26 |   2118 |\n",
       "| 2020-01-27 |   2927 |\n",
       "| 2020-01-28 |   5578 |\n",
       "| 2020-01-29 |   6166 |\n",
       "| 2020-01-30 |   8234 |\n",
       "| 2020-01-31 |   9927 |\n",
       "| 2020-02-01 |  12038 |\n",
       "| 2020-02-02 |  16787 |\n",
       "| 2020-02-03 |  19881 |\n",
       "| 2020-02-04 |  23892 |\n",
       "| 2020-02-05 |  27635 |\n",
       "| 2020-02-06 |  30817 |\n",
       "| 2020-02-07 |  34391 |\n",
       "| 2020-02-08 |  37120 |\n",
       "| 2020-02-09 |  40150 |\n",
       "| 2020-02-10 |  42762 |\n",
       "| 2020-02-11 |  44802 |\n",
       "| 2020-02-12 |  45221 |\n",
       "| 2020-02-13 |  60368 |\n",
       "| 2020-02-14 |  66885 |\n",
       "| 2020-02-15 |  69030 |\n",
       "| 2020-02-16 |  71224 |\n",
       "| 2020-02-17 |  73258 |\n",
       "| 2020-02-18 |  75136 |\n",
       "| 2020-02-19 |  75639 |\n",
       "| 2020-02-20 |  76197 |\n",
       "| 2020-02-21 |  76823 |\n",
       "| 2020-02-22 |  78579 |\n",
       "| 2020-02-23 |  78965 |\n",
       "| 2020-02-24 |  79568 |\n",
       "| 2020-02-25 |  80413 |\n",
       "| 2020-02-26 |  81395 |\n",
       "| 2020-02-27 |  82754 |\n",
       "| 2020-02-28 |  84120 |\n",
       "| 2020-02-29 |  86011 |\n",
       "| 2020-03-01 |  88369 |\n",
       "| 2020-03-02 |  90306 |\n",
       "| 2020-03-03 |  92840 |\n",
       "| 2020-03-04 |  95120 |\n",
       "| 2020-03-05 |  97882 |\n",
       "| 2020-03-06 | 101784 |\n",
       "| 2020-03-07 | 105821 |\n",
       "| 2020-03-08 | 109795 |\n",
       "| 2020-03-09 | 113561 |\n",
       "| 2020-03-10 | 118592 |\n",
       "| 2020-03-11 | 125865 |\n",
       "| 2020-03-12 | 128343 |\n",
       "| 2020-03-13 | 145193 |\n",
       "| 2020-03-14 | 156097 |\n",
       "| 2020-03-15 | 167449 |\n",
       "| 2020-03-16 | 181531 |\n",
       "| 2020-03-17 | 197146 |\n",
       "\n"
      ],
      "text/plain": [
       "   date       cum_cases\n",
       "1  2020-01-22    555   \n",
       "2  2020-01-23    653   \n",
       "3  2020-01-24    941   \n",
       "4  2020-01-25   1434   \n",
       "5  2020-01-26   2118   \n",
       "6  2020-01-27   2927   \n",
       "7  2020-01-28   5578   \n",
       "8  2020-01-29   6166   \n",
       "9  2020-01-30   8234   \n",
       "10 2020-01-31   9927   \n",
       "11 2020-02-01  12038   \n",
       "12 2020-02-02  16787   \n",
       "13 2020-02-03  19881   \n",
       "14 2020-02-04  23892   \n",
       "15 2020-02-05  27635   \n",
       "16 2020-02-06  30817   \n",
       "17 2020-02-07  34391   \n",
       "18 2020-02-08  37120   \n",
       "19 2020-02-09  40150   \n",
       "20 2020-02-10  42762   \n",
       "21 2020-02-11  44802   \n",
       "22 2020-02-12  45221   \n",
       "23 2020-02-13  60368   \n",
       "24 2020-02-14  66885   \n",
       "25 2020-02-15  69030   \n",
       "26 2020-02-16  71224   \n",
       "27 2020-02-17  73258   \n",
       "28 2020-02-18  75136   \n",
       "29 2020-02-19  75639   \n",
       "30 2020-02-20  76197   \n",
       "31 2020-02-21  76823   \n",
       "32 2020-02-22  78579   \n",
       "33 2020-02-23  78965   \n",
       "34 2020-02-24  79568   \n",
       "35 2020-02-25  80413   \n",
       "36 2020-02-26  81395   \n",
       "37 2020-02-27  82754   \n",
       "38 2020-02-28  84120   \n",
       "39 2020-02-29  86011   \n",
       "40 2020-03-01  88369   \n",
       "41 2020-03-02  90306   \n",
       "42 2020-03-03  92840   \n",
       "43 2020-03-04  95120   \n",
       "44 2020-03-05  97882   \n",
       "45 2020-03-06 101784   \n",
       "46 2020-03-07 105821   \n",
       "47 2020-03-08 109795   \n",
       "48 2020-03-09 113561   \n",
       "49 2020-03-10 118592   \n",
       "50 2020-03-11 125865   \n",
       "51 2020-03-12 128343   \n",
       "52 2020-03-13 145193   \n",
       "53 2020-03-14 156097   \n",
       "54 2020-03-15 167449   \n",
       "55 2020-03-16 181531   \n",
       "56 2020-03-17 197146   "
      ]
     },
     "metadata": {},
     "output_type": "display_data"
    }
   ],
   "source": [
    "# Load the readr, ggplot2, and dplyr packages\n",
    "library(readr)\n",
    "library(ggplot2)\n",
    "library(dplyr)\n",
    "\n",
    "# Read datasets/confirmed_cases_worldwide.csv into confirmed_cases_worldwide\n",
    "confirmed_cases_worldwide <- read_csv(\"datasets/confirmed_cases_worldwide.csv\")\n",
    "\n",
    "# See the result\n",
    "confirmed_cases_worldwide"
   ]
  },
  {
   "cell_type": "markdown",
   "metadata": {
    "dc": {
     "key": "12"
    },
    "deletable": false,
    "editable": false,
    "run_control": {
     "frozen": true
    },
    "tags": [
     "context"
    ]
   },
   "source": [
    "## 2. Confirmed cases throughout the world\n",
    "<p>The table above shows the cumulative confirmed cases of COVID-19 worldwide by date. Just reading numbers in a table makes it hard to get a sense of the scale and growth of the outbreak. Let's draw a line plot to visualize the confirmed cases worldwide.</p>"
   ]
  },
  {
   "cell_type": "code",
   "execution_count": 33,
   "metadata": {
    "dc": {
     "key": "12"
    },
    "tags": [
     "sample_code"
    ]
   },
   "outputs": [
    {
     "data": {
      "image/png": "[encoded data removed]",
      "text/plain": [
       "plot without title"
      ]
     },
     "metadata": {},
     "output_type": "display_data"
    }
   ],
   "source": [
    "# Draw a line plot of cumulative cases vs. date\n",
    "# Label the y-axis\n",
    "ggplot(confirmed_cases_worldwide,aes(x=date,y=cum_cases,col=\"red\"))+geom_line()+geom_point()+ylab(\"cumulative confirmed cases\")"
   ]
  },
  {
   "cell_type": "markdown",
   "metadata": {
    "dc": {
     "key": "19"
    },
    "deletable": false,
    "editable": false,
    "run_control": {
     "frozen": true
    },
    "tags": [
     "context"
    ]
   },
   "source": [
    "## 3. China compared to the rest of the world\n",
    "<p>The y-axis in that plot is pretty scary, with the total number of confirmed cases around the world approaching 200,000. Beyond that, some weird things are happening: there is an odd jump in mid February, then the rate of new cases slows down for a while, then speeds up again in March. We need to dig deeper to see what is happening.</p>\n",
    "<p>Early on in the outbreak, the COVID-19 cases were primarily centered in China. Let's plot confirmed COVID-19 cases in China and the rest of the world separately to see if it gives us any insight.</p>\n",
    "<p><em>We'll build on this plot in future tasks. One thing that will be important for the following tasks is that you add aesthetics within the line geometry of your ggplot, rather than making them global aesthetics.</em></p>"
   ]
  },
  {
   "cell_type": "code",
   "execution_count": 1,
   "metadata": {
    "dc": {
     "key": "19"
    },
    "tags": [
     "sample_code"
    ]
   },
   "outputs": [
    {
     "ename": "ERROR",
     "evalue": "Error in read_csv(\"datasets/confirmed_cases_china_vs_world.csv\"): could not find function \"read_csv\"\n",
     "output_type": "error",
     "traceback": [
      "Error in read_csv(\"datasets/confirmed_cases_china_vs_world.csv\"): could not find function \"read_csv\"\nTraceback:\n"
     ]
    }
   ],
   "source": [
    "# Read in datasets/confirmed_cases_china_vs_world.csv\n",
    "confirmed_cases_china_vs_world <-read_csv(\"datasets/confirmed_cases_china_vs_world.csv\")\n",
    " \n",
    "# See the result\n",
    "glimpse(confirmed_cases_china_vs_world)\n",
    "\n",
    "# Draw a line plot of cumulative cases vs. date, grouped and colored by is_china\n",
    "# Define aesthetics within the line geom\n",
    "plt_cum_confirmed_cases_china_vs_world <- ggplot(confirmed_cases_china_vs_world) +\n",
    "  geom_line(aes(x=date,y=cum_cases,group=is_china,col=is_china)) + \n",
    "ylab(\"Cumulative confirmed cases\")\n",
    "\n",
    "# See the plot\n",
    "plt_cum_confirmed_cases_china_vs_world"
   ]
  },
  {
   "cell_type": "markdown",
   "metadata": {
    "dc": {
     "key": "26"
    },
    "deletable": false,
    "editable": false,
    "run_control": {
     "frozen": true
    },
    "tags": [
     "context"
    ]
   },
   "source": [
    "## 4. Let's annotate!\n",
    "<p>Wow! The two lines have very different shapes. In February, the majority of cases were in China. That changed in March when it really became a global outbreak: around March 14, the total number of cases outside China overtook the cases inside China. This was days after the WHO declared a pandemic.</p>\n",
    "<p>There were a couple of other landmark events that happened during the outbreak. For example, the huge jump in the China line on February 13, 2020 wasn't just a bad day regarding the outbreak; China changed the way it reported figures on that day (CT scans were accepted as evidence for COVID-19, rather than only lab tests).</p>\n",
    "<p>By annotating events like this, we can better interpret changes in the plot.</p>"
   ]
  },
  {
   "cell_type": "code",
   "execution_count": null,
   "metadata": {
    "dc": {
     "key": "26"
    },
    "tags": [
     "sample_code"
    ]
   },
   "outputs": [],
   "source": [
    "who_events <- tribble(\n",
    "  ~ date, ~ event,\n",
    "  \"2020-01-30\", \"Global health\\nemergency declared\",\n",
    "  \"2020-03-11\", \"Pandemic\\ndeclared\",\n",
    "  \"2020-02-13\", \"China reporting\\nchange\"\n",
    ") %>%\n",
    "  mutate(date = as.Date(date))\n",
    "\n",
    "# Using who_events, add vertical dashed lines with an xintercept at date\n",
    "# and text at date, labeled by event, and at 100000 on the y-axis\n",
    "plt_cum_confirmed_cases_china_vs_world + geom_vline(aes(xintercept = date),data=who_events,linetype=\"dashed\")+geom_text(aes(x=date,label=event),y=100000,data=who_events)"
   ]
  },
  {
   "cell_type": "markdown",
   "metadata": {
    "dc": {
     "key": "33"
    },
    "deletable": false,
    "editable": false,
    "run_control": {
     "frozen": true
    },
    "tags": [
     "context"
    ]
   },
   "source": [
    "## 5. Adding a trend line to China\n",
    "<p>When trying to assess how big future problems are going to be, we need a measure of how fast the number of cases is growing. A good starting point is to see if the cases are growing faster or slower than linearly.</p>\n",
    "<p>There is a clear surge of cases around February 13, 2020, with the reporting change in China. However, a couple of days after, the growth of cases in China slows down. How can we describe COVID-19's growth in China after February 15, 2020?</p>"
   ]
  },
  {
   "cell_type": "code",
   "execution_count": null,
   "metadata": {
    "dc": {
     "key": "33"
    },
    "tags": [
     "sample_code"
    ]
   },
   "outputs": [],
   "source": [
    "# Filter for China, from Feb 15\n",
    "china_after_feb15 <- confirmed_cases_china_vs_world %>%\n",
    "  filter(is_china==\"China\",date>=\"2020-02-15\")\n",
    "\n",
    "# Using china_after_feb15, draw a line plot cum_cases vs. date\n",
    "# Add a smooth trend line using linear regression, no error bars\n",
    "ggplot(china_after_feb15,aes(x=date,y=cum_cases)) + geom_line() + geom_smooth(method=\"lm\",se=FALSE) +\n",
    "  ylab(\"Cumulative confirmed cases\")"
   ]
  },
  {
   "cell_type": "markdown",
   "metadata": {
    "dc": {
     "key": "40"
    },
    "deletable": false,
    "editable": false,
    "run_control": {
     "frozen": true
    },
    "tags": [
     "context"
    ]
   },
   "source": [
    "## 6. And the rest of the world?\n",
    "<p>From the plot above, the growth rate in China is slower than linear. That's great news because it indicates China has at least somewhat contained the virus in late February and early March.</p>\n",
    "<p>How does the rest of the world compare to linear growth?</p>"
   ]
  },
  {
   "cell_type": "code",
   "execution_count": null,
   "metadata": {
    "dc": {
     "key": "40"
    },
    "tags": [
     "sample_code"
    ]
   },
   "outputs": [],
   "source": [
    "# Filter confirmed_cases_china_vs_world for not China\n",
    "not_china <- confirmed_cases_china_vs_world %>%\n",
    "filter(is_china ==\"Not China\")\n",
    "\n",
    "# Using not_china, draw a line plot cum_cases vs. date\n",
    "# Add a smooth trend line using linear regression, no error bars\n",
    "plt_not_china_trend_lin<-ggplot(not_china,aes(x=date,y=cum_cases))+geom_line()+\n",
    "  geom_smooth(method=\"lm\",se=FALSE)+\n",
    "  ylab(\"Cumulative confirmed cases\")\n",
    "\n",
    "# See the result\n",
    "plt_not_china_trend_lin "
   ]
  },
  {
   "cell_type": "markdown",
   "metadata": {
    "dc": {
     "key": "47"
    },
    "deletable": false,
    "editable": false,
    "run_control": {
     "frozen": true
    },
    "tags": [
     "context"
    ]
   },
   "source": [
    "## 7. Adding a logarithmic scale\n",
    "<p>From the plot above, we can see a straight line does not fit well at all, and the rest of the world is growing much faster than linearly. What if we added a logarithmic scale to the y-axis?</p>"
   ]
  },
  {
   "cell_type": "code",
   "execution_count": null,
   "metadata": {
    "dc": {
     "key": "47"
    },
    "tags": [
     "sample_code"
    ]
   },
   "outputs": [],
   "source": [
    "# Modify the plot to use a logarithmic scale on the y-axis\n",
    "plt_not_china_trend_lin + scale_y_log10()"
   ]
  },
  {
   "cell_type": "markdown",
   "metadata": {
    "dc": {
     "key": "56"
    },
    "deletable": false,
    "editable": false,
    "run_control": {
     "frozen": true
    },
    "tags": [
     "context"
    ]
   },
   "source": [
    "## 8. Which countries outside of China have been hit hardest?\n",
    "<p>With the logarithmic scale, we get a much closer fit to the data. From a data science point of view, a good fit is great news. Unfortunately, from a public health point of view, that means that cases of COVID-19 in the rest of the world are growing at an exponential rate, which is terrible news.</p>\n",
    "<p>Not all countries are being affected by COVID-19 equally, and it would be helpful to know where in the world the problems are greatest. Let's find the countries outside of China with the most confirmed cases in our dataset.</p>"
   ]
  },
  {
   "cell_type": "code",
   "execution_count": null,
   "metadata": {
    "dc": {
     "key": "56"
    },
    "tags": [
     "sample_code"
    ]
   },
   "outputs": [],
   "source": [
    "# Run this to get the data for each country\n",
    "confirmed_cases_by_country <- read_csv(\"datasets/confirmed_cases_by_country.csv\")\n",
    "glimpse(confirmed_cases_by_country)\n",
    "\n",
    "# Group by country, summarize to calculate total cases, find the top 7\n",
    "top_countries_by_total_cases <- confirmed_cases_by_country %>%\n",
    "  group_by(country) %>%\n",
    "  summarize(total_cases=max(cum_cases)) %>%\n",
    "  top_n(7,total_cases)\n",
    "\n",
    "# See the result\n",
    "top_countries_by_total_cases"
   ]
  },
  {
   "cell_type": "markdown",
   "metadata": {
    "dc": {
     "key": "63"
    },
    "deletable": false,
    "editable": false,
    "run_control": {
     "frozen": true
    },
    "tags": [
     "context"
    ]
   },
   "source": [
    "## 9. Plotting hardest hit countries as of Mid-March 2020\n",
    "<p>Even though the outbreak was first identified in China, there is only one country from East Asia (South Korea) in the above table. Four of the listed countries (France, Germany, Italy, and Spain) are in Europe and share borders. To get more context, we can plot these countries' confirmed cases over time.</p>\n",
    "<p>Finally, congratulations on getting to the last step! If you would like to continue making visualizations or find the hardest hit countries as of today, you can do your own analyses with the latest data available <a href=\"https://github.com/RamiKrispin/coronavirus\">here</a>. </p>"
   ]
  },
  {
   "cell_type": "code",
   "execution_count": null,
   "metadata": {
    "dc": {
     "key": "63"
    },
    "tags": [
     "sample_code"
    ]
   },
   "outputs": [],
   "source": [
    "# Run this to get the data for the top 7 countries\n",
    "confirmed_cases_top7_outside_china<-read_csv(\"datasets/confirmed_cases_top7_outside_china.csv\")\n",
    "\n",
    "# \n",
    "glimpse(confirmed_cases_top7_outside_china)\n",
    "\n",
    "# Using confirmed_cases_top7_outside_china, draw a line plot of\n",
    "# cum_cases vs. date, grouped and colored by country \n",
    "ggplot(confirmed_cases_top7_outside_china,aes(date,cum_cases,group=country,colour=country))+ylab(\"comulative confirmed cases\")+ylab(\"comulative confirmed cases\")+geom_line()"
   ]
  }
 ],
 "metadata": {
  "kernelspec": {
   "display_name": "R",
   "language": "R",
   "name": "ir"
  },
  "language_info": {
   "codemirror_mode": "r",
   "file_extension": ".r",
   "mimetype": "text/x-r-source",
   "name": "R",
   "pygments_lexer": "r",
   "version": "3.6.1"
  }
 },
 "nbformat": 4,
 "nbformat_minor": 2
}
